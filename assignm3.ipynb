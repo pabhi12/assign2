{
 "cells": [
  {
   "cell_type": "code",
   "execution_count": 55,
   "id": "f27e9ac5-5a6d-43f4-bc9d-419a18261db5",
   "metadata": {},
   "outputs": [],
   "source": [
    "#The keyword used to create a function in Python is def.\n",
    "# to primt odd no. under given range as input\n",
    "def odd():\n",
    "    s=int(input())\n",
    "    la=[]\n",
    "    for a in range(s):\n",
    "        if (a+1)%2!=0:\n",
    "            la.append(a+1) \n",
    "    return la\n",
    "#print(odd())"
   ]
  },
  {
   "cell_type": "code",
   "execution_count": 1,
   "id": "90df800b-e58b-4d3a-b7d8-8908d71b65ed",
   "metadata": {},
   "outputs": [],
   "source": [
    "def test(*args):\n",
    "    return args"
   ]
  },
  {
   "cell_type": "code",
   "execution_count": 4,
   "id": "11b88ca3-b260-488c-968f-cde6193cb288",
   "metadata": {},
   "outputs": [],
   "source": [
    "def test1(**kwargs):\n",
    "    return kwargs"
   ]
  },
  {
   "cell_type": "code",
   "execution_count": 5,
   "id": "03b1af28-06e7-4369-8a89-e41e23ea1846",
   "metadata": {},
   "outputs": [
    {
     "data": {
      "text/plain": [
       "(1, 2, 3, 4, 5, 6, 7, 8, 9)"
      ]
     },
     "execution_count": 5,
     "metadata": {},
     "output_type": "execute_result"
    }
   ],
   "source": [
    "test(1,2,3,4,5,6,7,8,9)"
   ]
  },
  {
   "cell_type": "code",
   "execution_count": 18,
   "id": "c3ff0b23-9d93-4499-8cd8-091d2f2bd41b",
   "metadata": {},
   "outputs": [
    {
     "data": {
      "text/plain": [
       "{'name': 'john', 'age': '24'}"
      ]
     },
     "execution_count": 18,
     "metadata": {},
     "output_type": "execute_result"
    }
   ],
   "source": [
    "test1(name=\"john\",age=\"24\")"
   ]
  },
  {
   "cell_type": "code",
   "execution_count": 65,
   "id": "cf7fa7e6-af14-47d2-bf68-6f861f6ee968",
   "metadata": {},
   "outputs": [
    {
     "name": "stdout",
     "output_type": "stream",
     "text": [
      "2\n",
      "4\n",
      "6\n",
      "8\n",
      "10\n"
     ]
    }
   ],
   "source": [
    "l=[2,4,6,8,10,12,14,16,18,20]\n",
    "l=iter(l)\n",
    "for i in range(5):\n",
    "    print(next(l))"
   ]
  },
  {
   "cell_type": "code",
   "execution_count": 1,
   "id": "88aa5e47-ed93-429a-91cf-eaef368194b6",
   "metadata": {},
   "outputs": [],
   "source": [
    "def func1():\n",
    "    a,b=0,1\n",
    "    while True:\n",
    "        yield a\n",
    "        a,b=b,a+b   "
   ]
  },
  {
   "cell_type": "code",
   "execution_count": 2,
   "id": "8cbc79c2-5ee9-4943-90c4-e5352f91c975",
   "metadata": {},
   "outputs": [
    {
     "data": {
      "text/plain": [
       "generator"
      ]
     },
     "execution_count": 2,
     "metadata": {},
     "output_type": "execute_result"
    }
   ],
   "source": [
    "j=func1()\n",
    "type(j)\n",
    "type(func1())"
   ]
  },
  {
   "cell_type": "code",
   "execution_count": 3,
   "id": "9a1f075e-a17a-47c0-a468-da26bf4bd566",
   "metadata": {},
   "outputs": [
    {
     "name": "stdout",
     "output_type": "stream",
     "text": [
      "0\n",
      "1\n",
      "1\n",
      "2\n",
      "3\n",
      "5\n",
      "8\n",
      "13\n",
      "21\n",
      "34\n"
     ]
    }
   ],
   "source": [
    "for p in range(10):\n",
    "    print (next(j))"
   ]
  },
  {
   "cell_type": "code",
   "execution_count": 24,
   "id": "e1643cf5-2055-4a80-94ee-1ce0cc49975e",
   "metadata": {},
   "outputs": [],
   "source": [
    "def func2():\n",
    "    n=2\n",
    "    while n<1000:\n",
    "        c=0\n",
    "        for i in range(n):\n",
    "            if n%(i+1)==0:\n",
    "                c+=1    \n",
    "        if c==2:\n",
    "            yield n\n",
    "        n+=1"
   ]
  },
  {
   "cell_type": "code",
   "execution_count": 25,
   "id": "583c1e65-48eb-48fa-a607-e6235fac0332",
   "metadata": {},
   "outputs": [
    {
     "data": {
      "text/plain": [
       "generator"
      ]
     },
     "execution_count": 25,
     "metadata": {},
     "output_type": "execute_result"
    }
   ],
   "source": [
    "gene= func2()\n",
    "type(m)"
   ]
  },
  {
   "cell_type": "code",
   "execution_count": 26,
   "id": "b7110ea5-bb43-4e33-9c21-74f316963085",
   "metadata": {},
   "outputs": [
    {
     "name": "stdout",
     "output_type": "stream",
     "text": [
      "2\n",
      "3\n",
      "5\n",
      "7\n",
      "11\n",
      "13\n",
      "17\n",
      "19\n",
      "23\n",
      "29\n"
     ]
    }
   ],
   "source": [
    "for _ in range(10):\n",
    "    print(next(gene))"
   ]
  },
  {
   "cell_type": "code",
   "execution_count": 43,
   "id": "80656f67-b3f3-40e7-a17b-b70adff58f57",
   "metadata": {},
   "outputs": [
    {
     "name": "stdout",
     "output_type": "stream",
     "text": [
      "0\n",
      "1\n",
      "1\n",
      "2\n",
      "3\n",
      "5\n",
      "8\n",
      "13\n",
      "21\n",
      "34\n"
     ]
    }
   ],
   "source": [
    "a=0\n",
    "b=1\n",
    "n=1\n",
    "while n<=10:\n",
    "    print(a)\n",
    "    c=a+b\n",
    "    a=b\n",
    "    b=c\n",
    "    n=n+1"
   ]
  },
  {
   "cell_type": "code",
   "execution_count": 54,
   "id": "8e48291f-c713-4ea3-a6af-a813ee1d9c13",
   "metadata": {},
   "outputs": [
    {
     "name": "stdout",
     "output_type": "stream",
     "text": [
      "['p', 'w', 's', 'k', 'i', 'l', 'l', 's']\n"
     ]
    }
   ],
   "source": [
    "s='pwskills'\n",
    "l=[]\n",
    "for _ in s:\n",
    "    l.append(_)\n",
    "print(l)"
   ]
  },
  {
   "cell_type": "code",
   "execution_count": 1,
   "id": "4d05a9fe-ee1d-41d2-8af2-0ad5f29dfecb",
   "metadata": {},
   "outputs": [
    {
     "name": "stdin",
     "output_type": "stream",
     "text": [
      " 1234554321\n"
     ]
    },
    {
     "name": "stdout",
     "output_type": "stream",
     "text": [
      "number is palindrome 1234554321\n"
     ]
    }
   ],
   "source": [
    "a=input()\n",
    "if a==a[::-1]:\n",
    "    print(\"number is palindrome\",a)\n",
    "else:\n",
    "    print('not a palindrome no.')"
   ]
  },
  {
   "cell_type": "code",
   "execution_count": 21,
   "id": "83ae10a7-baaa-403e-822d-b1f10291c4d5",
   "metadata": {},
   "outputs": [],
   "source": [
    "l=[i for i in range(100)]\n",
    "l1=[a for a in l if a%2!=0 ]\n",
    "#for i in range(100):\n",
    " #   l.append(i+1)\n",
    "#for a in l:\n",
    " #   if a%2!=0:\n",
    "  #      l1.append(a)"
   ]
  },
  {
   "cell_type": "code",
   "execution_count": null,
   "id": "5a7dd3a9-e6a9-4449-8408-3eb846ea62fa",
   "metadata": {},
   "outputs": [],
   "source": []
  },
  {
   "cell_type": "code",
   "execution_count": null,
   "id": "aabc29af-4e60-4bef-a9ed-c549346150a7",
   "metadata": {},
   "outputs": [],
   "source": []
  }
 ],
 "metadata": {
  "kernelspec": {
   "display_name": "Python 3 (ipykernel)",
   "language": "python",
   "name": "python3"
  },
  "language_info": {
   "codemirror_mode": {
    "name": "ipython",
    "version": 3
   },
   "file_extension": ".py",
   "mimetype": "text/x-python",
   "name": "python",
   "nbconvert_exporter": "python",
   "pygments_lexer": "ipython3",
   "version": "3.10.8"
  }
 },
 "nbformat": 4,
 "nbformat_minor": 5
}
